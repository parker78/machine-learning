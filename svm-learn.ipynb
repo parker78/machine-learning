{
 "cells": [
  {
   "cell_type": "code",
   "execution_count": 1,
   "metadata": {
    "collapsed": true
   },
   "outputs": [],
   "source": [
    "data = [(2.0,3.0,1.0),(4.0,4.0,1.0),(1.0,0.5,-1.0),(0.5,1.0,-1.0),(0.2,0.2,-1.0),(4.0,5.0,1.0)]\n",
    "def load_data(data,index):\n",
    "    \"\"\"\n",
    "        返回data数组中，根据index进行拆分，返回训练集和测试集\n",
    "    \"\"\"\n",
    "    train_data = data[0:index]\n",
    "    test_data = data[index:]\n",
    "    return train_data,test_data    "
   ]
  },
  {
   "cell_type": "code",
   "execution_count": 2,
   "metadata": {
    "collapsed": true
   },
   "outputs": [],
   "source": [
    "train_data,test_data = load_data(data,4)"
   ]
  },
  {
   "cell_type": "code",
   "execution_count": 3,
   "metadata": {},
   "outputs": [
    {
     "name": "stdout",
     "output_type": "stream",
     "text": [
      "[(2.0, 3.0, 1.0), (4.0, 4.0, 1.0), (1.0, 0.5, -1.0), (0.5, 1.0, -1.0)]\n",
      "[(0.2, 0.2, -1.0), (4.0, 5.0, 1.0)]\n"
     ]
    }
   ],
   "source": [
    "print(train_data)\n",
    "print(test_data)"
   ]
  },
  {
   "cell_type": "code",
   "execution_count": 4,
   "metadata": {},
   "outputs": [
    {
     "name": "stdout",
     "output_type": "stream",
     "text": [
      "[(2.0, 3.0), (4.0, 4.0), (1.0, 0.5), (0.5, 1.0)]\n",
      "[1.0, 1.0, -1.0, -1.0]\n"
     ]
    }
   ],
   "source": [
    "def load_x_and_label(data):\n",
    "    \"\"\"将数据集合中的测试集合数据集进行拆分\"\"\"\n",
    "    x=[]\n",
    "    label=[]\n",
    "    for k in data:\n",
    "        x1= (k[0],k[1])\n",
    "        x.append(x1)\n",
    "        label.append(k[2])\n",
    "    return x,label\n",
    "x,label = load_x_and_label(train_data)\n",
    "print (x)\n",
    "print(label)"
   ]
  },
  {
   "cell_type": "code",
   "execution_count": 5,
   "metadata": {
    "collapsed": true
   },
   "outputs": [],
   "source": [
    "def sums(a):\n",
    "    \"\"\"对a求和\"\"\"\n",
    "    s = 0.0\n",
    "    for i in a:\n",
    "        s = s + i\n",
    "    return s\n",
    "def mul(a,label):\n",
    "    \"\"\"a 与label中每一项相乘，返回一个长度相同的数组，\n",
    "       a = [1,2,3]\n",
    "       label = [2,2,2]\n",
    "       mul(a,label) = [ 2,4,6 ]\n",
    "    \"\"\"\n",
    "    result = []\n",
    "    for i in range(len(a)):\n",
    "        result.append(a[i]*label[i])\n",
    "    return result\n",
    "def calculate(a,x,label):\n",
    "    \"\"\"计算给定alpha后得到的函数值，用于选取最大值\"\"\"\n",
    "    s = 0.0\n",
    "    for i in range(len(x)):\n",
    "        for j in range(len(x)):\n",
    "            s = s + a[i]*a[j]*label[i]*label[j]*sums(mul(x[i],x[j]))\n",
    "    return (sums(a)-1.0/2*s)\n",
    "\n",
    "\n",
    "def cal_aj(a,i,label,j):\n",
    "    \"\"\"计算 aj \"\"\"\n",
    "    a[j]=0-a[i]*label[i]*label[j]\n",
    "    return a[j]"
   ]
  },
  {
   "cell_type": "code",
   "execution_count": 6,
   "metadata": {},
   "outputs": [
    {
     "name": "stdout",
     "output_type": "stream",
     "text": [
      "8.673617379884035e-19\n",
      "[0.276, 0.001, 0.276, 0.001]\n"
     ]
    }
   ],
   "source": [
    "# 给定alpha\n",
    "a=[0.0,0.0,0.0,0.0]\n",
    "# 用来标识已经被访问过\n",
    "used=[0,0,0,0]\n",
    "# 跨度\n",
    "length = 10000\n",
    "# 步长 千分之一\n",
    "step = 1000.0\n",
    "# 获取训练集和测试集\n",
    "x,label = load_x_and_label(train_data)\n",
    "\n",
    "def train_a(x, label, a, used, length, step):\n",
    "    \"\"\"\n",
    "    x 标识测试数据\n",
    "    label 标签\n",
    "    a 标识 alpha\n",
    "    used 表示 被计算过的数组\n",
    "    length 表示跨度，在这个0-length的跨度内找最大值\n",
    "    step 表示步长\n",
    "    \"\"\"\n",
    "    for i in range(0,len(a)):\n",
    "        max_value = -1\n",
    "        max_j = 0\n",
    "        max_index = -1\n",
    "        if used[i] == 0:\n",
    "            used[i] = 1\n",
    "            # 选aj\n",
    "            for j in range(0,len(a)):\n",
    "                if j != i and used[j] == 0:\n",
    "                    used[j] = 1\n",
    "                    # 确定ai的值\n",
    "                    for d in range(1,length):\n",
    "                        a[i]  = d/step\n",
    "                        oldja = a[j]\n",
    "                        aj = cal_aj(a,i,label,j)\n",
    "                        if aj >= 0:\n",
    "                            k = calculate(a,x,label)\n",
    "                            if k> max_value:\n",
    "                                # 选取最大值\n",
    "                                max_value = k\n",
    "                                max_index = d\n",
    "                                max_j = j\n",
    "                        else:\n",
    "                            a[j]=oldja\n",
    "                    if max_index > -1 :\n",
    "                        # 找到第一个符合条件的aj就可以\n",
    "                        a[i] = max_index/step\n",
    "                        a[max_j] = cal_aj(a,i,label,max_j)\n",
    "                        break\n",
    "                    else:\n",
    "                        # 如果没找到 需要回溯\n",
    "                        used[j]=0\n",
    "                        #a[j] = oldaj\n",
    "    return a\n",
    "train_a(x,label,a,used,length,step)\n",
    "print(sums(mul(a,label)))\n",
    "print (a)"
   ]
  },
  {
   "cell_type": "code",
   "execution_count": 7,
   "metadata": {},
   "outputs": [
    {
     "name": "stdout",
     "output_type": "stream",
     "text": [
      "[0.2795, 0.6930000000000001]\n"
     ]
    }
   ],
   "source": [
    "def num_nul_list(num,x):\n",
    "    res = []\n",
    "    for i in range(len(x)):\n",
    "        res.append(num*x[i])\n",
    "    return res\n",
    "def list_sum(x,y):\n",
    "    sum = []\n",
    "    for i in range(len(x)):\n",
    "        sum.append(x[i]+y[i])\n",
    "    return sum\n",
    "def cal_w(a,label,x):\n",
    "    res = []\n",
    "    for i in range(len(x[0])):\n",
    "        res.append(0.0)\n",
    "    for i in range(len(a)):\n",
    "        res=list_sum(res, num_nul_list(a[i]*label[i],x[i]))\n",
    "    return res\n",
    "#print (a,label,x)\n",
    "w = cal_w(a,label,x)\n",
    "print (w)"
   ]
  },
  {
   "cell_type": "code",
   "execution_count": 8,
   "metadata": {
    "collapsed": true
   },
   "outputs": [],
   "source": [
    "def cal_b(w,x,label):\n",
    "    sum = 0.0\n",
    "    for i in range(len(x)):\n",
    "        sum = sum +(label[i]-sums(mul(w,x[i])))\n",
    "    # 简单的取平均\n",
    "    return sum/len(x)\n",
    "b = cal_b(w,x,label)"
   ]
  },
  {
   "cell_type": "code",
   "execution_count": 9,
   "metadata": {
    "collapsed": true
   },
   "outputs": [],
   "source": [
    "test_x,test_label = load_x_and_label(test_data)\n",
    "#print(test_x,test_label)\n",
    "def f(w,b,test_x):\n",
    "    predict=[]\n",
    "    for i in range(len(test_x)):\n",
    "        s = sums(mul(w,test_x[i]))+b\n",
    "        if(s>0):\n",
    "            predict.append(1.0)\n",
    "        else:\n",
    "            predict.append(-1.0)\n",
    "    return predict"
   ]
  },
  {
   "cell_type": "code",
   "execution_count": 10,
   "metadata": {},
   "outputs": [
    {
     "name": "stdout",
     "output_type": "stream",
     "text": [
      "[-1.0, 1.0] [-1.0, 1.0]\n"
     ]
    }
   ],
   "source": [
    "predict = f(w,b,test_x)\n",
    "print(predict,test_label)"
   ]
  },
  {
   "cell_type": "code",
   "execution_count": null,
   "metadata": {
    "collapsed": true
   },
   "outputs": [],
   "source": []
  }
 ],
 "metadata": {
  "kernelspec": {
   "display_name": "Python 3",
   "language": "python",
   "name": "python3"
  },
  "language_info": {
   "codemirror_mode": {
    "name": "ipython",
    "version": 3
   },
   "file_extension": ".py",
   "mimetype": "text/x-python",
   "name": "python",
   "nbconvert_exporter": "python",
   "pygments_lexer": "ipython3",
   "version": "3.6.3"
  }
 },
 "nbformat": 4,
 "nbformat_minor": 2
}
